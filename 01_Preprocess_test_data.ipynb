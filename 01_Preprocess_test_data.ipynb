{
 "cells": [
  {
   "cell_type": "markdown",
   "id": "a877cfee",
   "metadata": {},
   "source": [
    "# Preprocess test_data\n"
   ]
  },
  {
   "cell_type": "markdown",
   "id": "ff71d230",
   "metadata": {},
   "source": [
    "Programa que lee el archivo submission.csv y lo preprocesa de la misma forma que los datos originales.\n",
    "- Lee submision.csv de la carpeta test\n",
    "- Preprocesa los datos.\n",
    "- Lo guarda como test_data.parquet en la carpeta test"
   ]
  },
  {
   "cell_type": "code",
   "execution_count": null,
   "id": "6994a68c",
   "metadata": {},
   "outputs": [],
   "source": [
    "import pandas as pd\n",
    "submission = pd.read_csv(\"test/submission.csv\")"
   ]
  },
  {
   "cell_type": "code",
   "execution_count": null,
   "id": "d4550289",
   "metadata": {},
   "outputs": [],
   "source": []
  },
  {
   "cell_type": "markdown",
   "id": "58b14636",
   "metadata": {},
   "source": [
    "### Guardo el dataframe resultante del postprocesado, df, como parquet "
   ]
  },
  {
   "cell_type": "code",
   "execution_count": null,
   "id": "5800c5ad",
   "metadata": {},
   "outputs": [],
   "source": [
    "ruta_actual = os.getcwd()\n",
    "ruta_data = os.path.join(ruta_actual, \"test\")\n",
    "\n",
    "ruta_resultante = os.path.join(ruta_data, \"test_data.parquet\")\n",
    "tabla_resultante = pa.Table.from_pandas(df)\n",
    "pq.write_table(tabla_resultante, ruta_resultante)"
   ]
  }
 ],
 "metadata": {
  "kernelspec": {
   "display_name": "Python 3 (ipykernel)",
   "language": "python",
   "name": "python3"
  },
  "language_info": {
   "codemirror_mode": {
    "name": "ipython",
    "version": 3
   },
   "file_extension": ".py",
   "mimetype": "text/x-python",
   "name": "python",
   "nbconvert_exporter": "python",
   "pygments_lexer": "ipython3",
   "version": "3.10.9"
  }
 },
 "nbformat": 4,
 "nbformat_minor": 5
}
