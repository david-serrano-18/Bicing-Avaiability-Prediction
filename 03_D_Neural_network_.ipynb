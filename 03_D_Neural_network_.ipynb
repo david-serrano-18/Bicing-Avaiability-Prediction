{
 "cells": [
  {
   "cell_type": "markdown",
   "id": "d0c58eea",
   "metadata": {},
   "source": [
    "# Neural network"
   ]
  },
  {
   "cell_type": "markdown",
   "id": "b1d291d0",
   "metadata": {},
   "source": [
    "Modelo de red neuronal que sirve para realizar la prediccion y analizar resultados.\n",
    "\n",
    "- Lee los datos del df conjunto.\n",
    "- Lee los datos que se usarán de test.\n",
    "- Crea el modelo.\n",
    "- Realiza la predicción.\n",
    "- Analiza resultados."
   ]
  },
  {
   "cell_type": "code",
   "execution_count": null,
   "id": "ff56ccfb",
   "metadata": {},
   "outputs": [],
   "source": [
    "import pandas as pd\n",
    "import numpy as np\n",
    "import tensorflow as tf\n",
    "from tensorflow.keras.models import Sequential\n",
    "from tensorflow.keras.layers import Dense, Dropout\n",
    "from tensorflow.keras.optimizers import Adam\n",
    "from tensorflow.keras.losses import MeanSquaredError\n",
    "from sklearn.metrics import mean_squared_error, r2_score\n",
    "from sklearn.model_selection import train_test_split\n",
    "from sklearn.preprocessing import StandardScaler\n",
    "from sklearn.decomposition import PCA\n",
    "\n",
    "df = pd.read_parquet('data/data.parquet')\n",
    "test_data = pd.read_parquet(\"test/submission.parquet\")"
   ]
  },
  {
   "cell_type": "code",
   "execution_count": null,
   "id": "27e09cca",
   "metadata": {
    "scrolled": true
   },
   "outputs": [],
   "source": [
    "df.head(5)"
   ]
  },
  {
   "cell_type": "markdown",
   "id": "bc0e20b9",
   "metadata": {},
   "source": [
    "### Selección de características"
   ]
  },
  {
   "cell_type": "code",
   "execution_count": null,
   "id": "1d26e397",
   "metadata": {},
   "outputs": [],
   "source": [
    "#Variables globales\n",
    "seed = 42\n",
    "batch_size = 32\n",
    "epochs = 10\n",
    "\n",
    "features = ['station_id','hour','dayofweek','festa','month','Rain','Wind','ctx-1','ctx-2','ctx-3','ctx-4']\n",
    "target = ['porcio']"
   ]
  },
  {
   "cell_type": "markdown",
   "id": "acd6d331",
   "metadata": {},
   "source": [
    "### Dividir en train y test, normalizar datos y PCA"
   ]
  },
  {
   "cell_type": "code",
   "execution_count": null,
   "id": "59271b64",
   "metadata": {},
   "outputs": [],
   "source": [
    "# train_test_split\n",
    "X = df[features]\n",
    "y = df[target]\n",
    "X_train, X_val, y_train, y_val = train_test_split(X, y, test_size=0.2, random_state=seed)\n",
    "\n",
    "X_test = test_data[features]\n",
    "y_test = test_data[target]\n",
    "\n",
    "# Normalizar los datos\n",
    "scaler = StandardScaler()\n",
    "X_train_scaled = scaler.fit_transform(X_train)\n",
    "X_val_scaled = scaler.transform(X_val)\n",
    "X_test_scaled = scaler.transform(X_test)\n",
    "\n",
    "# Aplicar Análisis de Componentes Principales, manteniendo explicada el 95% de la varianza\n",
    "pca = PCA(n_components=0.95)  \n",
    "X_train_pca = pca.fit_transform(X_train_scaled)\n",
    "X_val_pca = pca.transform(X_val_scaled)\n",
    "X_test_pca = pca.transform(X_test_scaled)"
   ]
  },
  {
   "cell_type": "markdown",
   "id": "ff58610b",
   "metadata": {},
   "source": [
    "### Definicion de la red neuronal, compilacion y entrenamiento del modelo"
   ]
  },
  {
   "cell_type": "code",
   "execution_count": null,
   "id": "7464bea8",
   "metadata": {},
   "outputs": [],
   "source": [
    "model = tf.keras.Sequential([\n",
    "    tf.keras.layers.Dense(256, activation='relu', input_shape=(X_train_scaled.shape[1],)),\n",
    "    tf.keras.layers.BatchNormalization(),\n",
    "    tf.keras.layers.Dropout(0.2),\n",
    "    tf.keras.layers.Dense(128, activation='relu'),\n",
    "    tf.keras.layers.BatchNormalization(),\n",
    "    tf.keras.layers.Dropout(0.2),\n",
    "    tf.keras.layers.Dense(64, activation='relu'),\n",
    "    tf.keras.layers.BatchNormalization(),\n",
    "    tf.keras.layers.Dropout(0.2),\n",
    "    tf.keras.layers.Dense(32, activation='relu'),\n",
    "    tf.keras.layers.BatchNormalization(),\n",
    "    tf.keras.layers.Dropout(0.2),\n",
    "    tf.keras.layers.Dense(1)\n",
    "])\n",
    "\n",
    "lr_schedule = tf.keras.optimizers.schedules.ExponentialDecay(\n",
    "    initial_learning_rate=0.001,\n",
    "    decay_steps=1000,\n",
    "    decay_rate=0.9\n",
    ")\n",
    "optimizer = tf.keras.optimizers.Adam(learning_rate=lr_schedule)\n",
    "\n",
    "model.compile(optimizer=optimizer, loss='mean_squared_error')\n",
    "\n",
    "model.fit(X_train_pca, y_train,batch_size=batch_size,epochs=epochs,verbose=1,validation_data=(X_val_pca, y_val))"
   ]
  },
  {
   "cell_type": "markdown",
   "id": "7d22fe84",
   "metadata": {},
   "source": [
    "### Predicción"
   ]
  },
  {
   "cell_type": "code",
   "execution_count": null,
   "id": "623f2f2d",
   "metadata": {},
   "outputs": [],
   "source": [
    "# Prediccion\n",
    "predictions = model.predict(X_test_pca)"
   ]
  },
  {
   "cell_type": "markdown",
   "id": "dd418f30",
   "metadata": {},
   "source": [
    "### Evaluación"
   ]
  },
  {
   "cell_type": "code",
   "execution_count": null,
   "id": "7d7cc6bf",
   "metadata": {},
   "outputs": [],
   "source": [
    "# Evaluación\n",
    "score = model.evaluate(X_test_pca, y_test, verbose=0)\n",
    "mse = mean_squared_error(y_test, predictions)\n",
    "r2 = r2_score(y_test, predictions)\n",
    "print(\"Pérdida en el conjunto de prueba:\", score)\n",
    "print('MSE:', mse)\n",
    "print('R^2:', r2)"
   ]
  },
  {
   "cell_type": "markdown",
   "id": "a0da3912",
   "metadata": {},
   "source": [
    "### Comparar las predicciones con los valores reales"
   ]
  },
  {
   "cell_type": "code",
   "execution_count": null,
   "id": "b90c79a2",
   "metadata": {},
   "outputs": [],
   "source": [
    "df_predictions = pd.DataFrame({'Predicciones': predictions.flatten(), 'Valores Reales': y_test.values.flatten()})\n",
    "df_predictions"
   ]
  },
  {
   "cell_type": "markdown",
   "id": "3e40188e",
   "metadata": {},
   "source": [
    "### Análisis descriptivo"
   ]
  },
  {
   "cell_type": "code",
   "execution_count": null,
   "id": "b7d783db",
   "metadata": {},
   "outputs": [],
   "source": [
    "describe_results = df_predictions.describe()\n",
    "describe_results"
   ]
  },
  {
   "cell_type": "markdown",
   "id": "0fc98afe",
   "metadata": {},
   "source": [
    "### Visualización de resultados"
   ]
  },
  {
   "cell_type": "code",
   "execution_count": null,
   "id": "15efa328",
   "metadata": {
    "scrolled": true
   },
   "outputs": [],
   "source": [
    "import matplotlib.pyplot as plt\n",
    "\n",
    "# Graficar las predicciones frente a las etiquetas reales\n",
    "plt.scatter(y_test, predictions)\n",
    "plt.xlabel('Etiquetas reales')\n",
    "plt.ylabel('Predicciones')\n",
    "plt.title('Comparación entre las etiquetas reales y las predicciones')\n",
    "plt.show()"
   ]
  }
 ],
 "metadata": {
  "kernelspec": {
   "display_name": "Python 3 (ipykernel)",
   "language": "python",
   "name": "python3"
  },
  "language_info": {
   "codemirror_mode": {
    "name": "ipython",
    "version": 3
   },
   "file_extension": ".py",
   "mimetype": "text/x-python",
   "name": "python",
   "nbconvert_exporter": "python",
   "pygments_lexer": "ipython3",
   "version": "3.10.9"
  }
 },
 "nbformat": 4,
 "nbformat_minor": 5
}
