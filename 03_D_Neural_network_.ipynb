{
 "cells": [
  {
   "cell_type": "markdown",
   "id": "d0c58eea",
   "metadata": {},
   "source": [
    "# Neural network"
   ]
  },
  {
   "cell_type": "markdown",
   "id": "b1d291d0",
   "metadata": {},
   "source": [
    "Modelo de red neuronal que sirve para realizar la prediccion y analizar resultados.\n",
    "\n",
    "- Lee los datos del df conjunto.\n",
    "- Lee los datos que se usarán de test.\n",
    "- Crea el modelo.\n",
    "- Realiza la predicción.\n",
    "- Analiza resultados."
   ]
  },
  {
   "cell_type": "code",
   "execution_count": 1,
   "id": "ff56ccfb",
   "metadata": {},
   "outputs": [],
   "source": [
    "import pandas as pd\n",
    "import numpy as np\n",
    "import tensorflow as tf\n",
    "from tensorflow.keras.models import Sequential\n",
    "from tensorflow.keras.layers import Dense, Dropout\n",
    "from tensorflow.keras.optimizers import Adam\n",
    "from tensorflow.keras.losses import MeanSquaredError\n",
    "from sklearn.metrics import mean_squared_error, r2_score\n",
    "from sklearn.model_selection import train_test_split\n",
    "from sklearn.preprocessing import StandardScaler\n",
    "from sklearn.decomposition import PCA\n",
    "\n",
    "df = pd.read_parquet('data/data.parquet')\n",
    "test_data = pd.read_parquet(\"test/submission.parquet\")"
   ]
  },
  {
   "cell_type": "markdown",
   "id": "bc0e20b9",
   "metadata": {},
   "source": [
    "### Variables globales"
   ]
  },
  {
   "cell_type": "code",
   "execution_count": 2,
   "id": "1d26e397",
   "metadata": {},
   "outputs": [],
   "source": [
    "#Variables globales\n",
    "seed = 42\n",
    "batch_size = 32\n",
    "epochs = 10\n",
    "\n",
    "features = ['station_id','hour','dayofweek','festa','month','Rain','Wind','ctx-1','ctx-2','ctx-3','ctx-4']\n",
    "target = ['porcio']"
   ]
  },
  {
   "cell_type": "markdown",
   "id": "acd6d331",
   "metadata": {},
   "source": [
    "### Dividir en train y test, normalizar datos y PCA"
   ]
  },
  {
   "cell_type": "code",
   "execution_count": 4,
   "id": "59271b64",
   "metadata": {},
   "outputs": [],
   "source": [
    "# train_test_split\n",
    "X = df[features]\n",
    "y = df[target]\n",
    "X_train, X_val, y_train, y_val = train_test_split(X, y, test_size=0.2, random_state=seed)\n",
    "\n",
    "X_test = test_data[features]\n",
    "#y_test = test_data[target]\n",
    "\n",
    "# Normalizar los datos\n",
    "scaler = StandardScaler()\n",
    "X_train_scaled = scaler.fit_transform(X_train)\n",
    "X_val_scaled = scaler.transform(X_val)\n",
    "X_test_scaled = scaler.transform(X_test)\n",
    "\n",
    "# Aplicar Análisis de Componentes Principales, manteniendo explicada el 95% de la varianza\n",
    "pca = PCA(n_components=0.95)  \n",
    "X_train_pca = pca.fit_transform(X_train_scaled)\n",
    "X_val_pca = pca.transform(X_val_scaled)\n",
    "X_test_pca = pca.transform(X_test_scaled)"
   ]
  },
  {
   "cell_type": "markdown",
   "id": "ff58610b",
   "metadata": {},
   "source": [
    "### Definicion de la red neuronal, compilacion y entrenamiento del modelo"
   ]
  },
  {
   "cell_type": "code",
   "execution_count": 5,
   "id": "7464bea8",
   "metadata": {},
   "outputs": [
    {
     "name": "stdout",
     "output_type": "stream",
     "text": [
      "Epoch 1/10\n",
      "203911/203911 [==============================] - 936s 5ms/step - loss: 0.0220 - val_loss: 0.0169\n",
      "Epoch 2/10\n",
      "203911/203911 [==============================] - 869s 4ms/step - loss: 0.0208 - val_loss: 0.0169\n",
      "Epoch 3/10\n",
      "203911/203911 [==============================] - 871s 4ms/step - loss: 0.0208 - val_loss: 0.0169\n",
      "Epoch 4/10\n",
      "203911/203911 [==============================] - 866s 4ms/step - loss: 0.0208 - val_loss: 0.0170\n",
      "Epoch 5/10\n",
      "203911/203911 [==============================] - 1270s 6ms/step - loss: 0.0208 - val_loss: 0.0169\n",
      "Epoch 6/10\n",
      "203911/203911 [==============================] - 1172s 6ms/step - loss: 0.0208 - val_loss: 0.0169\n",
      "Epoch 7/10\n",
      "203911/203911 [==============================] - 878s 4ms/step - loss: 0.0208 - val_loss: 0.0169\n",
      "Epoch 8/10\n",
      "203911/203911 [==============================] - 878s 4ms/step - loss: 0.0208 - val_loss: 0.0169\n",
      "Epoch 9/10\n",
      "203911/203911 [==============================] - 898s 4ms/step - loss: 0.0208 - val_loss: 0.0170\n",
      "Epoch 10/10\n",
      "203911/203911 [==============================] - 1105s 5ms/step - loss: 0.0208 - val_loss: 0.0169\n"
     ]
    },
    {
     "data": {
      "text/plain": [
       "<keras.callbacks.History at 0x23c5af64a00>"
      ]
     },
     "execution_count": 5,
     "metadata": {},
     "output_type": "execute_result"
    }
   ],
   "source": [
    "model = tf.keras.Sequential([\n",
    "    tf.keras.layers.Dense(256, activation='relu', input_shape=(X_train_pca.shape[1],)),\n",
    "    tf.keras.layers.BatchNormalization(),\n",
    "    tf.keras.layers.Dropout(0.2),\n",
    "    tf.keras.layers.Dense(128, activation='relu'),\n",
    "    tf.keras.layers.BatchNormalization(),\n",
    "    tf.keras.layers.Dropout(0.2),\n",
    "    tf.keras.layers.Dense(64, activation='relu'),\n",
    "    tf.keras.layers.BatchNormalization(),\n",
    "    tf.keras.layers.Dropout(0.2),\n",
    "    tf.keras.layers.Dense(32, activation='relu'),\n",
    "    tf.keras.layers.BatchNormalization(),\n",
    "    tf.keras.layers.Dropout(0.2),\n",
    "    tf.keras.layers.Dense(1)\n",
    "])\n",
    "\n",
    "lr_schedule = tf.keras.optimizers.schedules.ExponentialDecay(\n",
    "    initial_learning_rate=0.001,\n",
    "    decay_steps=1000,\n",
    "    decay_rate=0.9\n",
    ")\n",
    "optimizer = tf.keras.optimizers.Adam(learning_rate=lr_schedule)\n",
    "\n",
    "model.compile(optimizer=optimizer, loss='mean_squared_error')\n",
    "\n",
    "model.fit(X_train_pca, y_train,batch_size=batch_size,epochs=epochs,verbose=1,validation_data=(X_val_pca, y_val))"
   ]
  },
  {
   "cell_type": "markdown",
   "id": "7d22fe84",
   "metadata": {},
   "source": [
    "### Predicción"
   ]
  },
  {
   "cell_type": "code",
   "execution_count": 6,
   "id": "623f2f2d",
   "metadata": {
    "scrolled": true
   },
   "outputs": [
    {
     "name": "stdout",
     "output_type": "stream",
     "text": [
      "1719/1719 [==============================] - 5s 3ms/step\n"
     ]
    }
   ],
   "source": [
    "predictions = model.predict(X_test_pca)\n",
    "ids = test_data[features].index.values\n",
    "\n",
    "# Crear un DataFrame con las predicciones y los IDs\n",
    "df = pd.DataFrame({'index': ids, 'percentage_docks_available': predictions[:, 0]})\n",
    "\n",
    "# Definir la ruta y el nombre del archivo CSV\n",
    "csv_file = 'PrediccionesKAGGEL.csv'\n",
    "\n",
    "# Guardar el DataFrame en el archivo CSV\n",
    "df.to_csv(csv_file, index=False)"
   ]
  },
  {
   "cell_type": "code",
   "execution_count": 7,
   "id": "5565a3b5",
   "metadata": {},
   "outputs": [
    {
     "data": {
      "text/html": [
       "<div>\n",
       "<style scoped>\n",
       "    .dataframe tbody tr th:only-of-type {\n",
       "        vertical-align: middle;\n",
       "    }\n",
       "\n",
       "    .dataframe tbody tr th {\n",
       "        vertical-align: top;\n",
       "    }\n",
       "\n",
       "    .dataframe thead th {\n",
       "        text-align: right;\n",
       "    }\n",
       "</style>\n",
       "<table border=\"1\" class=\"dataframe\">\n",
       "  <thead>\n",
       "    <tr style=\"text-align: right;\">\n",
       "      <th></th>\n",
       "      <th>index</th>\n",
       "      <th>percentage_docks_available</th>\n",
       "    </tr>\n",
       "  </thead>\n",
       "  <tbody>\n",
       "    <tr>\n",
       "      <th>0</th>\n",
       "      <td>0</td>\n",
       "      <td>0.820360</td>\n",
       "    </tr>\n",
       "    <tr>\n",
       "      <th>1</th>\n",
       "      <td>1</td>\n",
       "      <td>0.627730</td>\n",
       "    </tr>\n",
       "    <tr>\n",
       "      <th>2</th>\n",
       "      <td>2</td>\n",
       "      <td>0.563880</td>\n",
       "    </tr>\n",
       "    <tr>\n",
       "      <th>3</th>\n",
       "      <td>3</td>\n",
       "      <td>0.766312</td>\n",
       "    </tr>\n",
       "    <tr>\n",
       "      <th>4</th>\n",
       "      <td>4</td>\n",
       "      <td>0.793010</td>\n",
       "    </tr>\n",
       "    <tr>\n",
       "      <th>...</th>\n",
       "      <td>...</td>\n",
       "      <td>...</td>\n",
       "    </tr>\n",
       "    <tr>\n",
       "      <th>54994</th>\n",
       "      <td>54994</td>\n",
       "      <td>0.490554</td>\n",
       "    </tr>\n",
       "    <tr>\n",
       "      <th>54995</th>\n",
       "      <td>54995</td>\n",
       "      <td>0.156667</td>\n",
       "    </tr>\n",
       "    <tr>\n",
       "      <th>54996</th>\n",
       "      <td>54996</td>\n",
       "      <td>0.771802</td>\n",
       "    </tr>\n",
       "    <tr>\n",
       "      <th>54997</th>\n",
       "      <td>54997</td>\n",
       "      <td>0.603834</td>\n",
       "    </tr>\n",
       "    <tr>\n",
       "      <th>54998</th>\n",
       "      <td>54998</td>\n",
       "      <td>0.640302</td>\n",
       "    </tr>\n",
       "  </tbody>\n",
       "</table>\n",
       "<p>54999 rows × 2 columns</p>\n",
       "</div>"
      ],
      "text/plain": [
       "       index  percentage_docks_available\n",
       "0          0                    0.820360\n",
       "1          1                    0.627730\n",
       "2          2                    0.563880\n",
       "3          3                    0.766312\n",
       "4          4                    0.793010\n",
       "...      ...                         ...\n",
       "54994  54994                    0.490554\n",
       "54995  54995                    0.156667\n",
       "54996  54996                    0.771802\n",
       "54997  54997                    0.603834\n",
       "54998  54998                    0.640302\n",
       "\n",
       "[54999 rows x 2 columns]"
      ]
     },
     "execution_count": 7,
     "metadata": {},
     "output_type": "execute_result"
    }
   ],
   "source": [
    "df"
   ]
  },
  {
   "cell_type": "markdown",
   "id": "bf95d210",
   "metadata": {},
   "source": [
    "### Análisis descriptivo"
   ]
  },
  {
   "cell_type": "code",
   "execution_count": 8,
   "id": "448fced1",
   "metadata": {},
   "outputs": [
    {
     "data": {
      "text/html": [
       "<div>\n",
       "<style scoped>\n",
       "    .dataframe tbody tr th:only-of-type {\n",
       "        vertical-align: middle;\n",
       "    }\n",
       "\n",
       "    .dataframe tbody tr th {\n",
       "        vertical-align: top;\n",
       "    }\n",
       "\n",
       "    .dataframe thead th {\n",
       "        text-align: right;\n",
       "    }\n",
       "</style>\n",
       "<table border=\"1\" class=\"dataframe\">\n",
       "  <thead>\n",
       "    <tr style=\"text-align: right;\">\n",
       "      <th></th>\n",
       "      <th>index</th>\n",
       "      <th>percentage_docks_available</th>\n",
       "    </tr>\n",
       "  </thead>\n",
       "  <tbody>\n",
       "    <tr>\n",
       "      <th>count</th>\n",
       "      <td>54999.000000</td>\n",
       "      <td>54999.000000</td>\n",
       "    </tr>\n",
       "    <tr>\n",
       "      <th>mean</th>\n",
       "      <td>27499.000000</td>\n",
       "      <td>0.576865</td>\n",
       "    </tr>\n",
       "    <tr>\n",
       "      <th>std</th>\n",
       "      <td>15876.988064</td>\n",
       "      <td>0.230902</td>\n",
       "    </tr>\n",
       "    <tr>\n",
       "      <th>min</th>\n",
       "      <td>0.000000</td>\n",
       "      <td>0.028993</td>\n",
       "    </tr>\n",
       "    <tr>\n",
       "      <th>25%</th>\n",
       "      <td>13749.500000</td>\n",
       "      <td>0.391221</td>\n",
       "    </tr>\n",
       "    <tr>\n",
       "      <th>50%</th>\n",
       "      <td>27499.000000</td>\n",
       "      <td>0.607387</td>\n",
       "    </tr>\n",
       "    <tr>\n",
       "      <th>75%</th>\n",
       "      <td>41248.500000</td>\n",
       "      <td>0.780582</td>\n",
       "    </tr>\n",
       "    <tr>\n",
       "      <th>max</th>\n",
       "      <td>54998.000000</td>\n",
       "      <td>0.960856</td>\n",
       "    </tr>\n",
       "  </tbody>\n",
       "</table>\n",
       "</div>"
      ],
      "text/plain": [
       "              index  percentage_docks_available\n",
       "count  54999.000000                54999.000000\n",
       "mean   27499.000000                    0.576865\n",
       "std    15876.988064                    0.230902\n",
       "min        0.000000                    0.028993\n",
       "25%    13749.500000                    0.391221\n",
       "50%    27499.000000                    0.607387\n",
       "75%    41248.500000                    0.780582\n",
       "max    54998.000000                    0.960856"
      ]
     },
     "execution_count": 8,
     "metadata": {},
     "output_type": "execute_result"
    }
   ],
   "source": [
    "describe_results = df.describe()\n",
    "describe_results"
   ]
  }
 ],
 "metadata": {
  "kernelspec": {
   "display_name": "Python 3 (ipykernel)",
   "language": "python",
   "name": "python3"
  },
  "language_info": {
   "codemirror_mode": {
    "name": "ipython",
    "version": 3
   },
   "file_extension": ".py",
   "mimetype": "text/x-python",
   "name": "python",
   "nbconvert_exporter": "python",
   "pygments_lexer": "ipython3",
   "version": "3.10.9"
  }
 },
 "nbformat": 4,
 "nbformat_minor": 5
}
