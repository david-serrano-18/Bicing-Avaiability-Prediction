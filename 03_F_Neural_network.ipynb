{
 "cells": [
  {
   "cell_type": "markdown",
   "id": "d0c58eea",
   "metadata": {},
   "source": [
    "# Neural network"
   ]
  },
  {
   "cell_type": "markdown",
   "id": "b1d291d0",
   "metadata": {},
   "source": [
    "Modelo de red neuronal que sirve para realizar la prediccion y analizar resultados.\n",
    "\n",
    "- Lee los datos del df conjunto.\n",
    "- Lee los datos que se usarán de test.\n",
    "- Crea el modelo.\n",
    "- Realiza la predicción.\n",
    "- Analiza resultados."
   ]
  },
  {
   "cell_type": "code",
   "execution_count": 1,
   "id": "ff56ccfb",
   "metadata": {},
   "outputs": [],
   "source": [
    "import pandas as pd\n",
    "import numpy as np\n",
    "import tensorflow as tf\n",
    "from tensorflow.keras.models import Sequential\n",
    "from tensorflow.keras.layers import Dense, Dropout\n",
    "from tensorflow.keras.optimizers import Adam\n",
    "from tensorflow.keras.losses import MeanSquaredError\n",
    "from sklearn.metrics import mean_squared_error, r2_score\n",
    "from sklearn.model_selection import train_test_split\n",
    "from sklearn.preprocessing import StandardScaler,MinMaxScaler\n",
    "from sklearn.decomposition import PCA\n",
    "import os\n",
    "\n",
    "\n",
    "df = pd.read_parquet('data/data.parquet')\n",
    "test_data = pd.read_parquet(\"test/submission.parquet\")"
   ]
  },
  {
   "cell_type": "markdown",
   "id": "bc0e20b9",
   "metadata": {},
   "source": [
    "### Selección de características"
   ]
  },
  {
   "cell_type": "code",
   "execution_count": null,
   "id": "1d26e397",
   "metadata": {},
   "outputs": [],
   "source": [
    "#Variables globales\n",
    "seed = 42\n",
    "batch_size = 32\n",
    "epochs = 10\n",
    "\n",
    "features = ['station_id','hour','dayofweek','festa','month','Rain','Wind','ctx-1','ctx-2','ctx-3','ctx-4']\n",
    "target = ['porcio']"
   ]
  },
  {
   "cell_type": "markdown",
   "id": "acd6d331",
   "metadata": {},
   "source": [
    "### Dividir en train y test, normalizar datos y PCA"
   ]
  },
  {
   "cell_type": "code",
   "execution_count": null,
   "id": "5f2d0661",
   "metadata": {},
   "outputs": [],
   "source": [
    "# train_test_split\n",
    "X_train = df[features]\n",
    "y_train = df[target]\n",
    "\n",
    "# Normalizar los datos\n",
    "scaler = StandardScaler()\n",
    "X_train_scaled = scaler.fit_transform(X_train)\n",
    "#X_test_scaled = scaler.transform(X_test)\n",
    "\n",
    "# Aplicar Análisis de Componentes Principales\n",
    "pca = PCA(n_components=0.95)  # Mantener el 95% de la varianza explicada\n",
    "X_train_pca = pca.fit_transform(X_train_scaled)"
   ]
  },
  {
   "cell_type": "markdown",
   "id": "ff58610b",
   "metadata": {},
   "source": [
    "### Definicion de la red neuronal, compilacion y entrenamiento del modelo"
   ]
  },
  {
   "cell_type": "code",
   "execution_count": null,
   "id": "7464bea8",
   "metadata": {},
   "outputs": [],
   "source": [
    "model = tf.keras.Sequential([\n",
    "    tf.keras.layers.Dense(256, activation='relu', input_shape=(X_train_scaled.shape[1],)),\n",
    "    tf.keras.layers.BatchNormalization(),\n",
    "    tf.keras.layers.Dropout(0.2),\n",
    "    tf.keras.layers.Dense(128, activation='relu'),\n",
    "    tf.keras.layers.BatchNormalization(),\n",
    "    tf.keras.layers.Dropout(0.2),\n",
    "    tf.keras.layers.Dense(64, activation='relu'),\n",
    "    tf.keras.layers.BatchNormalization(),\n",
    "    tf.keras.layers.Dropout(0.2),\n",
    "    tf.keras.layers.Dense(32, activation='relu'),\n",
    "    tf.keras.layers.BatchNormalization(),\n",
    "    tf.keras.layers.Dropout(0.2),\n",
    "    tf.keras.layers.Dense(1)\n",
    "])\n",
    "\n",
    "lr_schedule = tf.keras.optimizers.schedules.ExponentialDecay(\n",
    "    initial_learning_rate=0.001,\n",
    "    decay_steps=1000,\n",
    "    decay_rate=0.9\n",
    ")\n",
    "optimizer = tf.keras.optimizers.Adam(learning_rate=lr_schedule)\n",
    "\n",
    "model.compile(optimizer=optimizer, loss='mean_squared_error')\n",
    "\n",
    "model.fit(X_train_scaled, Y_train, epochs=epochs, batch_size=batch_size)"
   ]
  },
  {
   "cell_type": "markdown",
   "id": "7d22fe84",
   "metadata": {},
   "source": [
    "### Predicción"
   ]
  },
  {
   "cell_type": "code",
   "execution_count": null,
   "id": "623f2f2d",
   "metadata": {},
   "outputs": [],
   "source": [
    "new_test_data = test_data[features]\n",
    "new_data_scaled = scaler.transform(new_test_data)\n",
    "new_data_scaled = pca.transform(new_data_scaled)\n",
    "predictions = model.predict(new_data_scaled)\n",
    "ids = new_data.index.values\n",
    "\n",
    "# Crear un DataFrame con las predicciones y los IDs\n",
    "df = pd.DataFrame({'index': ids, 'percentage_docks_available': predictions[:, 0]})\n",
    "\n",
    "# Definir la ruta y el nombre del archivo CSV\n",
    "csv_file = 'PrediccionesKAGGEL.csv'\n",
    "\n",
    "# Guardar el DataFrame en el archivo CSV\n",
    "df.to_csv(csv_file, index=False)"
   ]
  }
 ],
 "metadata": {
  "kernelspec": {
   "display_name": "Python 3 (ipykernel)",
   "language": "python",
   "name": "python3"
  },
  "language_info": {
   "codemirror_mode": {
    "name": "ipython",
    "version": 3
   },
   "file_extension": ".py",
   "mimetype": "text/x-python",
   "name": "python",
   "nbconvert_exporter": "python",
   "pygments_lexer": "ipython3",
   "version": "3.10.9"
  }
 },
 "nbformat": 4,
 "nbformat_minor": 5
}
