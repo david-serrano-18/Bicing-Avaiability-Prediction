{
 "cells": [
  {
   "cell_type": "code",
   "execution_count": 1,
   "id": "609252a1",
   "metadata": {},
   "outputs": [],
   "source": [
    "import pandas as pd\n",
    "import numpy as np\n",
    "import tensorflow as tf\n",
    "from sklearn.model_selection import train_test_split\n",
    "from sklearn.preprocessing import StandardScaler\n",
    "\n",
    "# Leer el archivo Parquet en un DataFrame de Pandas\n",
    "df = pd.read_parquet('data/data.parquet')"
   ]
  },
  {
   "cell_type": "code",
   "execution_count": 3,
   "id": "437ab53c",
   "metadata": {},
   "outputs": [
    {
     "name": "stdout",
     "output_type": "stream",
     "text": [
      "Epoch 1/10\n",
      "375158/375158 [==============================] - 831s 2ms/step - loss: 0.1005\n",
      "Epoch 2/10\n",
      "375158/375158 [==============================] - 840s 2ms/step - loss: 1.5023e-04\n",
      "Epoch 3/10\n",
      "375158/375158 [==============================] - 823s 2ms/step - loss: 9.3829e-05\n",
      "Epoch 4/10\n",
      "375158/375158 [==============================] - 820s 2ms/step - loss: 7.4044e-05\n",
      "Epoch 5/10\n",
      "375158/375158 [==============================] - 824s 2ms/step - loss: 6.2909e-05\n",
      "Epoch 6/10\n",
      "375158/375158 [==============================] - 5951s 16ms/step - loss: 5.7600e-05\n",
      "Epoch 7/10\n",
      "375158/375158 [==============================] - 835s 2ms/step - loss: 4.8611e-05\n",
      "Epoch 8/10\n",
      "375158/375158 [==============================] - 841s 2ms/step - loss: 4.4367e-05\n",
      "Epoch 9/10\n",
      "375158/375158 [==============================] - 834s 2ms/step - loss: 4.0061e-05\n",
      "Epoch 10/10\n",
      "375158/375158 [==============================] - 840s 2ms/step - loss: 3.7882e-05\n",
      "Pérdida en el conjunto de prueba: 1.704487112874631e-05\n"
     ]
    }
   ],
   "source": [
    "import pandas as pd\n",
    "import numpy as np\n",
    "import tensorflow as tf\n",
    "from sklearn.model_selection import train_test_split\n",
    "from sklearn.preprocessing import StandardScaler\n",
    "from sklearn.decomposition import PCA\n",
    "\n",
    "batch_size = 32\n",
    "epochs = 10\n",
    "\n",
    "# Seleccionar las columnas relevantes para la predicción\n",
    "features = ['num_bikes_available', 'num_bikes_available_types.mechanical', 'num_bikes_available_types.ebike',\n",
    "            'num_docks_available', 'hour', 'dayofweek', 'Rain', 'Wind']\n",
    "target = ['num_docks_available']\n",
    "\n",
    "# Dividir los datos en conjunto de entrenamiento y conjunto de prueba\n",
    "X = df[features].values\n",
    "y = df[target].values\n",
    "X_train, X_test, y_train, y_test = train_test_split(X, y, test_size=0.2, random_state=42)\n",
    "\n",
    "# Normalizar los datos antes de aplicar PCA\n",
    "scaler = StandardScaler()\n",
    "X_scaled = scaler.fit_transform(X_train)\n",
    "\n",
    "# Aplicar PCA a los datos normalizados\n",
    "pca = PCA(n_components=0.95)  # Mantener el 95% de la varianza explicada\n",
    "X_pca = pca.fit_transform(X_scaled)\n",
    "\n",
    "# Crear el modelo de red neuronal con menos capas y unidades\n",
    "model = tf.keras.Sequential([\n",
    "    tf.keras.layers.Dense(32, activation='relu', input_shape=(X_pca.shape[1],)),\n",
    "    tf.keras.layers.Dense(16, activation='relu'),\n",
    "    tf.keras.layers.Dense(1)\n",
    "])\n",
    "\n",
    "# Compilar el modelo\n",
    "model.compile(optimizer='adam', loss='mean_squared_error')\n",
    "\n",
    "# Entrenar el modelo\n",
    "model.fit(X_pca, y_train, epochs=epochs, batch_size=batch_size, verbose=1)\n",
    "\n",
    "# Evaluar el modelo en el conjunto de prueba\n",
    "X_test_scaled = scaler.transform(X_test)\n",
    "X_test_pca = pca.transform(X_test_scaled)\n",
    "loss = model.evaluate(X_test_pca, y_test, verbose=0)\n",
    "print(\"Pérdida en el conjunto de prueba:\", loss)"
   ]
  },
  {
   "cell_type": "markdown",
   "id": "150978eb",
   "metadata": {},
   "source": [
    "Utilizar el modelo entrenado para realizar predicciones en el conjunto de prueba o en nuevos datos no vistos.\n",
    "\n",
    "Si ya has entrenado el modelo y tienes los datos de prueba (X_test), puedes hacer lo siguiente"
   ]
  },
  {
   "cell_type": "code",
   "execution_count": 5,
   "id": "007e565e",
   "metadata": {},
   "outputs": [
    {
     "name": "stdout",
     "output_type": "stream",
     "text": [
      "93790/93790 [==============================] - 177s 2ms/step\n"
     ]
    }
   ],
   "source": [
    "X_test_scaled = scaler.transform(X_test)\n",
    "X_test_pca = pca.transform(X_test_scaled)\n",
    "predictions = model.predict(X_test_pca)"
   ]
  },
  {
   "cell_type": "markdown",
   "id": "2fb39127",
   "metadata": {},
   "source": [
    "Comparar las predicciones con las etiquetas reales: Compara las predicciones obtenidas con las etiquetas reales (ground truth) del conjunto de prueba para evaluar qué tan cerca están las predicciones de los valores reales"
   ]
  },
  {
   "cell_type": "code",
   "execution_count": 6,
   "id": "da0b4652",
   "metadata": {},
   "outputs": [],
   "source": [
    "# Comparar las predicciones con las etiquetas reales\n",
    "compare_results = pd.DataFrame({'Etiquetas reales': y_test.flatten(), 'Predicciones': predictions.flatten()})"
   ]
  },
  {
   "cell_type": "markdown",
   "id": "00ef829e",
   "metadata": {},
   "source": [
    "Calcular métricas de evaluación: Calcula métricas de evaluación adecuadas para tu tipo de problema y datos. Por ejemplo, para un problema de regresión, puedes calcular el error cuadrático medio (MSE) y el coeficiente de determinación (R^2)."
   ]
  },
  {
   "cell_type": "code",
   "execution_count": 11,
   "id": "899d15a3",
   "metadata": {},
   "outputs": [
    {
     "name": "stdout",
     "output_type": "stream",
     "text": [
      "MSE: 1.7044876960989197e-05 \n",
      ". R^\"2\": 0.9999997621713438\n"
     ]
    }
   ],
   "source": [
    "from sklearn.metrics import mean_squared_error, r2_score\n",
    "\n",
    "# Calcular métricas de evaluación\n",
    "mse = mean_squared_error(y_test, predictions)\n",
    "r2 = r2_score(y_test, predictions)\n",
    "\n",
    "print('MSE:',mse, '\\n. R^\"2\":',r2)"
   ]
  },
  {
   "cell_type": "markdown",
   "id": "397c0b48",
   "metadata": {},
   "source": [
    "Análisis descriptivo: Puedes realizar un análisis descriptivo adicional para tener una comprensión más completa de qué tan buenos son los resultados de la predicción. Esto puede incluir el cálculo de estadísticas descriptivas básicas, como la media, la mediana, la desviación estándar, el rango, etc."
   ]
  },
  {
   "cell_type": "code",
   "execution_count": 12,
   "id": "4064a7ef",
   "metadata": {},
   "outputs": [
    {
     "data": {
      "text/html": [
       "<div>\n",
       "<style scoped>\n",
       "    .dataframe tbody tr th:only-of-type {\n",
       "        vertical-align: middle;\n",
       "    }\n",
       "\n",
       "    .dataframe tbody tr th {\n",
       "        vertical-align: top;\n",
       "    }\n",
       "\n",
       "    .dataframe thead th {\n",
       "        text-align: right;\n",
       "    }\n",
       "</style>\n",
       "<table border=\"1\" class=\"dataframe\">\n",
       "  <thead>\n",
       "    <tr style=\"text-align: right;\">\n",
       "      <th></th>\n",
       "      <th>Etiquetas reales</th>\n",
       "      <th>Predicciones</th>\n",
       "    </tr>\n",
       "  </thead>\n",
       "  <tbody>\n",
       "    <tr>\n",
       "      <th>count</th>\n",
       "      <td>3.001257e+06</td>\n",
       "      <td>3.001257e+06</td>\n",
       "    </tr>\n",
       "    <tr>\n",
       "      <th>mean</th>\n",
       "      <td>1.555781e+01</td>\n",
       "      <td>1.555635e+01</td>\n",
       "    </tr>\n",
       "    <tr>\n",
       "      <th>std</th>\n",
       "      <td>8.465740e+00</td>\n",
       "      <td>8.468362e+00</td>\n",
       "    </tr>\n",
       "    <tr>\n",
       "      <th>min</th>\n",
       "      <td>0.000000e+00</td>\n",
       "      <td>-1.139092e-02</td>\n",
       "    </tr>\n",
       "    <tr>\n",
       "      <th>25%</th>\n",
       "      <td>9.166667e+00</td>\n",
       "      <td>9.169052e+00</td>\n",
       "    </tr>\n",
       "    <tr>\n",
       "      <th>50%</th>\n",
       "      <td>1.600000e+01</td>\n",
       "      <td>1.599613e+01</td>\n",
       "    </tr>\n",
       "    <tr>\n",
       "      <th>75%</th>\n",
       "      <td>2.191667e+01</td>\n",
       "      <td>2.191346e+01</td>\n",
       "    </tr>\n",
       "    <tr>\n",
       "      <th>max</th>\n",
       "      <td>9.900000e+01</td>\n",
       "      <td>9.904364e+01</td>\n",
       "    </tr>\n",
       "  </tbody>\n",
       "</table>\n",
       "</div>"
      ],
      "text/plain": [
       "       Etiquetas reales  Predicciones\n",
       "count      3.001257e+06  3.001257e+06\n",
       "mean       1.555781e+01  1.555635e+01\n",
       "std        8.465740e+00  8.468362e+00\n",
       "min        0.000000e+00 -1.139092e-02\n",
       "25%        9.166667e+00  9.169052e+00\n",
       "50%        1.600000e+01  1.599613e+01\n",
       "75%        2.191667e+01  2.191346e+01\n",
       "max        9.900000e+01  9.904364e+01"
      ]
     },
     "execution_count": 12,
     "metadata": {},
     "output_type": "execute_result"
    }
   ],
   "source": [
    "# Estadísticas descriptivas de las etiquetas reales y las predicciones\n",
    "describe_results = compare_results.describe()\n",
    "describe_results"
   ]
  },
  {
   "cell_type": "markdown",
   "id": "a2c2f86e",
   "metadata": {},
   "source": [
    "Visualización de resultados: También puedes utilizar visualizaciones para comprender mejor los resultados. Por ejemplo, puedes graficar las predicciones frente a las etiquetas reales para ver la relación entre ellos."
   ]
  },
  {
   "cell_type": "code",
   "execution_count": 13,
   "id": "e165c5e7",
   "metadata": {
    "scrolled": true
   },
   "outputs": [
    {
     "data": {
      "image/png": "[encoded data removed]",
      "text/plain": [
       "<Figure size 640x480 with 1 Axes>"
      ]
     },
     "metadata": {},
     "output_type": "display_data"
    }
   ],
   "source": [
    "import matplotlib.pyplot as plt\n",
    "\n",
    "# Graficar las predicciones frente a las etiquetas reales\n",
    "plt.scatter(y_test, predictions)\n",
    "plt.xlabel('Etiquetas reales')\n",
    "plt.ylabel('Predicciones')\n",
    "plt.title('Comparación entre las etiquetas reales y las predicciones')\n",
    "plt.show()"
   ]
  },
  {
   "cell_type": "code",
   "execution_count": 15,
   "id": "ccfd14a1",
   "metadata": {},
   "outputs": [
    {
     "data": {
      "text/html": [
       "<div>\n",
       "<style scoped>\n",
       "    .dataframe tbody tr th:only-of-type {\n",
       "        vertical-align: middle;\n",
       "    }\n",
       "\n",
       "    .dataframe tbody tr th {\n",
       "        vertical-align: top;\n",
       "    }\n",
       "\n",
       "    .dataframe thead th {\n",
       "        text-align: right;\n",
       "    }\n",
       "</style>\n",
       "<table border=\"1\" class=\"dataframe\">\n",
       "  <thead>\n",
       "    <tr style=\"text-align: right;\">\n",
       "      <th></th>\n",
       "      <th>Num_dock_available_real</th>\n",
       "      <th>Num_dock_available_predicted</th>\n",
       "    </tr>\n",
       "  </thead>\n",
       "  <tbody>\n",
       "    <tr>\n",
       "      <th>0</th>\n",
       "      <td>17.000000</td>\n",
       "      <td>16.996279</td>\n",
       "    </tr>\n",
       "    <tr>\n",
       "      <th>1</th>\n",
       "      <td>14.333333</td>\n",
       "      <td>14.337928</td>\n",
       "    </tr>\n",
       "    <tr>\n",
       "      <th>2</th>\n",
       "      <td>25.000000</td>\n",
       "      <td>24.994659</td>\n",
       "    </tr>\n",
       "    <tr>\n",
       "      <th>3</th>\n",
       "      <td>18.083333</td>\n",
       "      <td>18.081329</td>\n",
       "    </tr>\n",
       "    <tr>\n",
       "      <th>4</th>\n",
       "      <td>14.000000</td>\n",
       "      <td>13.999369</td>\n",
       "    </tr>\n",
       "    <tr>\n",
       "      <th>...</th>\n",
       "      <td>...</td>\n",
       "      <td>...</td>\n",
       "    </tr>\n",
       "    <tr>\n",
       "      <th>3001252</th>\n",
       "      <td>22.083333</td>\n",
       "      <td>22.081078</td>\n",
       "    </tr>\n",
       "    <tr>\n",
       "      <th>3001253</th>\n",
       "      <td>20.076923</td>\n",
       "      <td>20.074242</td>\n",
       "    </tr>\n",
       "    <tr>\n",
       "      <th>3001254</th>\n",
       "      <td>4.500000</td>\n",
       "      <td>4.503579</td>\n",
       "    </tr>\n",
       "    <tr>\n",
       "      <th>3001255</th>\n",
       "      <td>5.083333</td>\n",
       "      <td>5.081334</td>\n",
       "    </tr>\n",
       "    <tr>\n",
       "      <th>3001256</th>\n",
       "      <td>9.416667</td>\n",
       "      <td>9.417980</td>\n",
       "    </tr>\n",
       "  </tbody>\n",
       "</table>\n",
       "<p>3001257 rows × 2 columns</p>\n",
       "</div>"
      ],
      "text/plain": [
       "         Num_dock_available_real  Num_dock_available_predicted\n",
       "0                      17.000000                     16.996279\n",
       "1                      14.333333                     14.337928\n",
       "2                      25.000000                     24.994659\n",
       "3                      18.083333                     18.081329\n",
       "4                      14.000000                     13.999369\n",
       "...                          ...                           ...\n",
       "3001252                22.083333                     22.081078\n",
       "3001253                20.076923                     20.074242\n",
       "3001254                 4.500000                      4.503579\n",
       "3001255                 5.083333                      5.081334\n",
       "3001256                 9.416667                      9.417980\n",
       "\n",
       "[3001257 rows x 2 columns]"
      ]
     },
     "execution_count": 15,
     "metadata": {},
     "output_type": "execute_result"
    }
   ],
   "source": [
    "# Crear un dataframe con las predicciones y el número real de espacios de estacionamiento disponibles\n",
    "predictions_df = pd.DataFrame({'Num_dock_available_real': y_test.flatten(), 'Num_dock_available_predicted': predictions.flatten()})\n",
    "predictions_df"
   ]
  }
 ],
 "metadata": {
  "kernelspec": {
   "display_name": "Python 3 (ipykernel)",
   "language": "python",
   "name": "python3"
  },
  "language_info": {
   "codemirror_mode": {
    "name": "ipython",
    "version": 3
   },
   "file_extension": ".py",
   "mimetype": "text/x-python",
   "name": "python",
   "nbconvert_exporter": "python",
   "pygments_lexer": "ipython3",
   "version": "3.10.9"
  }
 },
 "nbformat": 4,
 "nbformat_minor": 5
}
