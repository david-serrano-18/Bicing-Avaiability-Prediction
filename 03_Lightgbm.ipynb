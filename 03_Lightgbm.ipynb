{
 "cells": [
  {
   "cell_type": "markdown",
   "id": "d0c58eea",
   "metadata": {},
   "source": [
    "# Lightgbm"
   ]
  },
  {
   "cell_type": "markdown",
   "id": "b1d291d0",
   "metadata": {},
   "source": [
    "Modelo de red neuronal que sirve para realizar la prediccion y analizar resultados.\n",
    "\n",
    "- Lee los datos del df conjunto.\n",
    "- Lee los datos que se usarán de test.\n",
    "- Crea el modelo.\n",
    "- Realiza la predicción.\n",
    "- Analiza resultados."
   ]
  },
  {
   "cell_type": "code",
   "execution_count": 1,
   "id": "ff56ccfb",
   "metadata": {},
   "outputs": [],
   "source": [
    "import pandas as pd\n",
    "import os\n",
    "from sklearn.ensemble import RandomForestRegressor\n",
    "from sklearn.model_selection import train_test_split\n",
    "import tensorflow as tf\n",
    "import pandas as pd\n",
    "from sklearn.model_selection import train_test_split\n",
    "from sklearn.preprocessing import MinMaxScaler\n",
    "import os\n",
    "import pandas as pd\n",
    "import lightgbm as lgb\n",
    "from sklearn.model_selection import train_test_split\n",
    "from sklearn.metrics import mean_squared_error\n",
    "\n",
    "\n",
    "\n",
    "df = pd.read_parquet('data/data.parquet')\n",
    "test_data = pd.read_parquet(\"test/submission.parquet\")"
   ]
  },
  {
   "cell_type": "markdown",
   "id": "bc0e20b9",
   "metadata": {},
   "source": [
    "### Selección de características"
   ]
  },
  {
   "cell_type": "code",
   "execution_count": null,
   "id": "1d26e397",
   "metadata": {},
   "outputs": [],
   "source": [
    "#Variables globales\n",
    "seed = 42\n",
    "batch_size = 32\n",
    "epochs = 10\n",
    "\n",
    "features = ['station_id','hour','dayofweek','festa','month','Rain','Wind','ctx-1','ctx-2','ctx-3','ctx-4']\n",
    "target = ['porcio']"
   ]
  },
  {
   "cell_type": "markdown",
   "id": "acd6d331",
   "metadata": {},
   "source": [
    "### Dividir en train y test, normalizar datos y PCA"
   ]
  },
  {
   "cell_type": "code",
   "execution_count": null,
   "id": "5f2d0661",
   "metadata": {},
   "outputs": [],
   "source": [
    "# train_test_split\n",
    "X_train = df[features]\n",
    "y_train = df[target]\n",
    "\n"
   ]
  },
  {
   "cell_type": "markdown",
   "id": "ff58610b",
   "metadata": {},
   "source": [
    "### Definicion del programa Lightgbm y entrenamiento del modelo"
   ]
  },
  {
   "cell_type": "code",
   "execution_count": null,
   "id": "7464bea8",
   "metadata": {},
   "outputs": [],
   "source": [
    "categorical_features = ['station_id', 'month','dayofweek']\n",
    "lgb_train = lgb.Dataset(X_train, label=Y_train, categorical_feature=categorical_features)\n",
    "model = lgb.train({}, lgb_train)\n"
   ]
  },
  {
   "cell_type": "markdown",
   "id": "7d22fe84",
   "metadata": {},
   "source": [
    "### Predicción"
   ]
  },
  {
   "cell_type": "code",
   "execution_count": null,
   "id": "623f2f2d",
   "metadata": {},
   "outputs": [],
   "source": [
    "# Prediccion\n",
    "\n",
    "new_test_data=test_data[features]\n",
    "\n",
    "predictions = model.predict(new_test_data)\n",
    "ids = new_data.index.values\n",
    "# Crear un DataFrame con las predicciones y los IDs\n",
    "df = pd.DataFrame({'index': ids, 'percentage_docks_available': predictions[:, 0]})\n",
    "\n",
    "# Definir la ruta y el nombre del archivo CSV\n",
    "csv_file = 'Predicciones_Lightgbm.csv'\n",
    "\n",
    "# Guardar el DataFrame en el archivo CSV\n",
    "df.to_csv(csv_file, index=False)\n"
   ]
  }
 ],
 "metadata": {
  "kernelspec": {
   "display_name": "Python 3 (ipykernel)",
   "language": "python",
   "name": "python3"
  },
  "language_info": {
   "codemirror_mode": {
    "name": "ipython",
    "version": 3
   },
   "file_extension": ".py",
   "mimetype": "text/x-python",
   "name": "python",
   "nbconvert_exporter": "python",
   "pygments_lexer": "ipython3",
   "version": "3.10.9"
  }
 },
 "nbformat": 4,
 "nbformat_minor": 5
}
