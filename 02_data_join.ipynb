{
 "cells": [
  {
   "cell_type": "markdown",
   "id": "6ac0eb52",
   "metadata": {},
   "source": [
    "# Data join"
   ]
  },
  {
   "cell_type": "markdown",
   "id": "4b38329e",
   "metadata": {},
   "source": [
    "Programa que sirve para leer y tratar todos los csv ya preprocesados.\n",
    "\n",
    "- Convierte los csv mensuales que se tienen en local en parquet.\n",
    "- Se suben manualmente los parquets a Github a la carpeta /data.\n",
    "- Lee todos los parquets y los agrupa en un solo dataframe para poder trabajar con él.\n",
    "- Guarda el dataframe en la carpeta data."
   ]
  },
  {
   "cell_type": "markdown",
   "id": "715e5289",
   "metadata": {},
   "source": [
    "### Conversión csv a parquet"
   ]
  },
  {
   "cell_type": "code",
   "execution_count": null,
   "id": "0db2e29d",
   "metadata": {
    "scrolled": true
   },
   "outputs": [],
   "source": [
    "import pandas as pd\n",
    "import pyarrow as pa\n",
    "import pyarrow.parquet as pq\n",
    "from pathlib import Path\n",
    "import os\n",
    "\n",
    "features = ['num_docks_available','houryear', 'Llocs','station_id','hour','dayofweek','month','Wind','Rain','festa','summer','winter','fall','spring','year']\n",
    "folder_path = os.getcwd()\n",
    " \n",
    "csv_files = [file for file in os.listdir(folder_path) if file.endswith('.csv')]\n",
    "\n",
    "for csv_file in csv_files:\n",
    "    csv_file = os.path.join(folder_path, csv_file)\n",
    "    df = pd.read_csv(csv_file,usecols=features)\n",
    "    \n",
    "    file_name = os.path.splitext(csv_file)[0]\n",
    "    parquet_folder = os.path.join(folder_path, f'{file_name}.parquet')\n",
    "    \n",
    "    df.to_parquet(parquet_folder)"
   ]
  },
  {
   "cell_type": "markdown",
   "id": "2afbda45",
   "metadata": {},
   "source": [
    "### Subida a github de los parquets en la carpeta data"
   ]
  },
  {
   "cell_type": "markdown",
   "id": "863ce658",
   "metadata": {},
   "source": [
    "Se suben los parquets a github en la carpeta data"
   ]
  },
  {
   "cell_type": "markdown",
   "id": "773272fa",
   "metadata": {},
   "source": [
    "### Join de los parquets en un solo df"
   ]
  },
  {
   "cell_type": "code",
   "execution_count": null,
   "id": "fa9be50e",
   "metadata": {},
   "outputs": [],
   "source": [
    "import os\n",
    "import pandas as pd\n",
    "import pyarrow as pa\n",
    "import pyarrow.parquet as pq\n",
    "\n",
    "ruta_actual = os.getcwd()\n",
    "ruta_data = os.path.join(ruta_actual, \"data\")\n",
    "\n",
    "archivos_parquet = [archivo for archivo in os.listdir(ruta_data) if archivo.endswith('.parquet')]\n",
    "\n",
    "dataframes = []\n",
    "\n",
    "for archivo_parquet in archivos_parquet:\n",
    "    ruta_parquet = os.path.join(ruta_data, archivo_parquet)\n",
    "    tabla = pq.read_table(ruta_parquet)\n",
    "    dataframe = tabla.to_pandas()\n",
    "    dataframes.append(dataframe)\n",
    "\n",
    "dataframe_completo = pd.concat(dataframes, ignore_index=True)"
   ]
  },
  {
   "cell_type": "code",
   "execution_count": null,
   "id": "d7b88f8d",
   "metadata": {},
   "outputs": [],
   "source": [
    "#Second post process\n",
    "dataframe_completo['porcio']=(dataframe_completo['num_docks_available']/dataframe_completo['Llocs'])\n",
    "\n",
    "dataframe_completo = dataframe_completo.sort_values(['station_id', 'year','houryear'])\n",
    "\n",
    "dataframe_completo['ctx-1'] = dataframe_completo.groupby(['station_id', 'year'])['porcio'].shift(1)\n",
    "dataframe_completo['ctx-2'] = dataframe_completo.groupby(['station_id', 'year'])['porcio'].shift(2)\n",
    "dataframe_completo['ctx-3'] = dataframe_completo.groupby(['station_id', 'year'])['porcio'].shift(3)\n",
    "dataframe_completo['ctx-4'] = dataframe_completo.groupby(['station_id', 'year'])['porcio'].shift(4)\n",
    "dataframe_completo= dataframe_completo.dropna()"
   ]
  },
  {
   "cell_type": "code",
   "execution_count": null,
   "id": "ee9f8744",
   "metadata": {},
   "outputs": [],
   "source": [
    "dataframe_completo.shape"
   ]
  },
  {
   "cell_type": "markdown",
   "id": "79d54a75",
   "metadata": {},
   "source": [
    "### Se guarda el parquet en la misma carpeta de data"
   ]
  },
  {
   "cell_type": "code",
   "execution_count": null,
   "id": "4034179f",
   "metadata": {},
   "outputs": [],
   "source": [
    "ruta_resultante = os.path.join(ruta_data, \"data.parquet\")\n",
    "tabla_resultante = pa.Table.from_pandas(dataframe_completo)\n",
    "pq.write_table(tabla_resultante, ruta_resultante)"
   ]
  }
 ],
 "metadata": {
  "kernelspec": {
   "display_name": "Python 3 (ipykernel)",
   "language": "python",
   "name": "python3"
  },
  "language_info": {
   "codemirror_mode": {
    "name": "ipython",
    "version": 3
   },
   "file_extension": ".py",
   "mimetype": "text/x-python",
   "name": "python",
   "nbconvert_exporter": "python",
   "pygments_lexer": "ipython3",
   "version": "3.10.9"
  }
 },
 "nbformat": 4,
 "nbformat_minor": 5
}
