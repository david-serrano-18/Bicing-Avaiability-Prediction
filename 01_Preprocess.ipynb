{
 "cells": [
  {
   "cell_type": "markdown",
   "id": "69468a0b",
   "metadata": {},
   "source": [
    "# Preprocess"
   ]
  },
  {
   "cell_type": "markdown",
   "id": "0b71ff96",
   "metadata": {},
   "source": [
    "Programa compilado en Collab, que contiene el preprocesado de datos. \n",
    "- Lee datos.\n",
    "- Realiza las transformaciones.\n",
    "- Descarga un csv mensual por mes en local."
   ]
  },
  {
   "cell_type": "markdown",
   "id": "f6c967e8",
   "metadata": {},
   "source": [
    "### Leer datos"
   ]
  },
  {
   "cell_type": "code",
   "execution_count": null,
   "id": "4cffd6db",
   "metadata": {},
   "outputs": [],
   "source": [
    "import os\n",
    "import pandas as pd\n",
    "import datetime\n",
    "import glob\n",
    "\n",
    "i2m = list(zip(range(1, 13), ['Gener', 'Febrer', 'Marc', 'Abril', 'Maig', 'Juny', 'Juliol', 'Agost', 'Setembre', 'Octubre', 'Novembre', 'Desembre']))\n",
    "\n",
    "for year in [2022]:\n",
    "    for month, month_name in i2m:\n",
    "        os.system(f\"wget 'https://opendata-ajuntament.barcelona.cat/resources/bcn/BicingBCN/{year}_{month:02d}_{month_name}_BicingNou_ESTACIONS.7z'\")\n",
    "        os.system(f\"7z x '{year}_{month:02d}_{month_name}_BicingNou_ESTACIONS.7z'\")\n",
    "        os.system(f\"rm '{year}_{month:02d}_{month_name}_BicingNou_ESTACIONS.7z'\")\n",
    "\n",
    "fileList = os.listdir('Path_Data')\n",
    "listCsv = [file for file in fileList if file[-3:] == \"csv\"]\n"
   ]
  },
  {
   "cell_type": "markdown",
   "id": "450b96f4",
   "metadata": {},
   "source": [
    "### Procesar y transformar archivos CSV"
   ]
  },
  {
   "cell_type": "code",
   "execution_count": null,
   "id": "85d4ab52",
   "metadata": {},
   "outputs": [],
   "source": [
    "for i in range(0, 12, 1):\n",
    "    ftemp = pd.read_csv(listCsv[i])\n",
    "    \n",
    "    ftemp['last_reported'] = pd.to_datetime(ftemp['last_reported'], unit='s')\n",
    "    ftemp['last_updated'] = pd.to_datetime(ftemp['last_updated'], unit='s')\n",
    "    \n",
    "    ftemp['year'] = ftemp.last_reported.dt.year\n",
    "    ftemp['month'] = ftemp.last_reported.dt.month\n",
    "    ftemp = ftemp[ftemp['month'] == i + 3]\n",
    "    ftemp['hour'] = ftemp.last_reported.dt.hour\n",
    "    ftemp['dayyear'] = ftemp.last_reported.dt.day_of_year\n",
    "    ftemp['houryear'] = (ftemp.dayyear - 1) * 24 + ftemp.hour\n",
    "    \n",
    "    # Calcular la suma de las columnas \"num_docks_available\" y \"num_bikes_available\" en una nueva columna \"Llocs\", son la suma de bicis y sitios bacios\n",
    "    ftemp['Llocs'] = ftemp['num_docks_available'] + ftemp['num_bikes_available']\n",
    "    \n",
    "    # Configurar columna \"last_reported\" como índice, es la fecha de la fila\n",
    "    ftemp = ftemp.set_index('last_reported')\n",
    "    \n",
    "    # Agrupar por \"station_id\" y \"houryear\" y calcular la media de los valores para cada grupo\n",
    "    ftemp = ftemp.groupby(['station_id', 'houryear']).mean().reset_index()\n",
    "    ftemp = ftemp.reset_index()\n",
    "    \n",
    "    \n",
    "    ftemp['houryear'] = ftemp['houryear'].astype(int)\n",
    "    ftemp['year'] = ftemp['year'].astype(int)\n",
    "    \n",
    "    # Fecha y hora como una cadena con formato 'AAAA/MM/DD HH:MM:SS'\n",
    "    ftemp['time'] = pd.to_datetime(ftemp['year'].astype(str), format='%Y') + pd.to_timedelta(ftemp['houryear'], unit='h')\n",
    "    ftemp['time'] = ftemp['time'].dt.strftime('%Y/%m/%d %H:%M:%S')\n",
    "    ftemp['dayofweek'] = ftemp['time'].dt.dayofweek\n",
    "    ftemp['time2'] = pd.to_datetime(ftemp['time'].dt.date)\n",
    "    \n",
    "    ftemp.to_csv('2019' + str(i + 1) + '.csv', index=False)\n",
    "    files.download('/content/2019' + str(i + 1) + '.csv')\n",
    "    \n",
    "    del ftemp"
   ]
  },
  {
   "cell_type": "markdown",
   "id": "4c0bc5e0",
   "metadata": {},
   "source": [
    "### Añadir información Precipitación y Viento"
   ]
  },
  {
   "cell_type": "code",
   "execution_count": null,
   "id": "300b94f4",
   "metadata": {},
   "outputs": [],
   "source": [
    "fileList = os.listdir('Path_Data')\n",
    "listCsv = [file for file in fileList if file[-3:] == \"csv\"]\n",
    "\n",
    "\n",
    "for i in range(0, len(listCsv), 1):\n",
    "    \n",
    "    ftemp = pd.read_csv(listCsv[i])\n",
    "    df = pd. read_csv ('Precipitacio.csv')\n",
    "    df=df.drop(['CODI_ESTACIO','CODI_BASE'],axis=1)\n",
    "    df['time'] = pd.to_datetime(df['DATA_LECTURA'], format='%d/%m/%Y %I:%M:%S %p')\n",
    "    df['year'] = df.time.dt.year\n",
    "    df['dayyear'] = df.time.dt.day_of_year\n",
    "    \n",
    "    #Creamos una variable que indique si ha llovido ese dia ponga un 1, indicando lluvia en ese dia\n",
    "    df=df.groupby(['year','dayyear']).sum()\n",
    "    df['Rain']=np.where(df['VALOR_LECTURA']>1,1,0)\n",
    "    \n",
    "    #Rain_Lectura será el valor real de la lectura de lluvia en esa hora\n",
    "    df['Rain_Lectura']=df['VALOR_LECTURA']\n",
    "    df=df.drop(['VALOR_LECTURA'],axis=1)\n",
    "    df=df.reset_index()\n",
    "    \n",
    "    df['time2'] = pd.to_datetime(df['year'].astype(str) + df['dayyear'].astype(str), format='%Y%j')\n",
    "    \n",
    "    #Unimos la informacion del csv original con el de precipitacion\n",
    "    Total=pd.merge_ordered(ftemp,df,how='left',on=['time2'],fill_method='ffill')\n",
    "    Total=Total.drop(['year_y','dayyear_y'],axis=1)\n",
    "    \n",
    "    #Realizamos lo mismo con los valores de viento, en ese caso si el viento es superior a 20 m/s en algun momento\n",
    "    #se rellena la variable WIND con un 1 todo el dia para indicar que era un día con viento.\n",
    "    \n",
    "    df = pd. read_csv ('Vent.csv')\n",
    "    df=df.drop(['CODI_ESTACIO','CODI_BASE'],axis=1)\n",
    "    df['time'] = pd.to_datetime(df['DATA_LECTURA'], format='%d/%m/%Y %I:%M:%S %p')\n",
    "    df['year'] = df.time.dt.year\n",
    "    df['dayyear'] = df.time.dt.day_of_year\n",
    "    df=df.groupby(['year','dayyear']).max()\n",
    "    df['Wind']=np.where(df['VALOR_LECTURA']>20,1,0)\n",
    "    df['Wind_Lectura']=df['VALOR_LECTURA']\n",
    "    df=df.drop(['VALOR_LECTURA'],axis=1)\n",
    "    df=df.drop(['DATA_LECTURA','time'],axis=1)\n",
    "    df=df.reset_index()\n",
    "    df['time2'] = pd.to_datetime(df['year'].astype(str) + df['dayyear'].astype(str), format='%Y%j')\n",
    "    Total=pd.merge_ordered(Total,df,how='left',on=['time2'],fill_method='ffill')\n",
    "    \n",
    "    #guardamos los documentos\n",
    "    Total.to_csv(listCsv+'_PV.csv', index=False)"
   ]
  }
 ],
 "metadata": {
  "kernelspec": {
   "display_name": "Python 3 (ipykernel)",
   "language": "python",
   "name": "python3"
  },
  "language_info": {
   "codemirror_mode": {
    "name": "ipython",
    "version": 3
   },
   "file_extension": ".py",
   "mimetype": "text/x-python",
   "name": "python",
   "nbconvert_exporter": "python",
   "pygments_lexer": "ipython3",
   "version": "3.10.9"
  }
 },
 "nbformat": 4,
 "nbformat_minor": 5
}
